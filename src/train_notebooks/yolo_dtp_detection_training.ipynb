{
  "nbformat": 4,
  "nbformat_minor": 0,
  "metadata": {
    "accelerator": "GPU",
    "colab": {
      "name": "yolo_training",
      "provenance": [],
      "collapsed_sections": []
    },
    "kernelspec": {
      "display_name": "Python 3",
      "name": "python3"
    }
  },
  "cells": [
    {
      "cell_type": "markdown",
      "metadata": {
        "id": "7mGmQbAO5pQb"
      },
      "source": [
        "# Setup\n",
        "\n",
        "Clone repo, install dependencies and check PyTorch and GPU."
      ]
    },
    {
      "cell_type": "code",
      "metadata": {
        "colab": {
          "base_uri": "https://localhost:8080/"
        },
        "id": "wbvMlHd_QwMG",
        "outputId": "e38aa997-da01-4be5-bbcb-0c4f0fc83eff"
      },
      "source": [
        "!git clone https://github.com/ultralytics/yolov5  # clone\n",
        "%cd yolov5\n",
        "%pip install -qr requirements.txt  # install\n",
        "\n",
        "from yolov5 import utils\n",
        "display = utils.notebook_init()  # checks"
      ],
      "execution_count": 1,
      "outputs": [
        {
          "output_type": "stream",
          "name": "stderr",
          "text": [
            "YOLOv5 🚀 v6.0-218-g7539cd7 torch 1.10.0+cu111 CUDA:0 (Tesla K80, 11441MiB)\n"
          ]
        },
        {
          "output_type": "stream",
          "name": "stdout",
          "text": [
            "Setup complete ✅ (2 CPUs, 12.7 GB RAM, 42.2/78.2 GB disk)\n"
          ]
        }
      ]
    },
    {
      "cell_type": "markdown",
      "metadata": {
        "id": "rc_KbFk0juX2"
      },
      "source": [
        "## YOLOv5 training\n"
      ]
    },
    {
      "cell_type": "code",
      "metadata": {
        "colab": {
          "base_uri": "https://localhost:8080/"
        },
        "id": "8JNnN_8739gN",
        "outputId": "06616a96-bd0e-4f87-aae1-fe411cfc76ed"
      },
      "source": [
        "from google.colab import drive\n",
        "drive.mount('/content/drive')"
      ],
      "execution_count": 2,
      "outputs": [
        {
          "output_type": "stream",
          "name": "stdout",
          "text": [
            "Mounted at /content/drive\n"
          ]
        }
      ]
    },
    {
      "cell_type": "code",
      "metadata": {
        "colab": {
          "base_uri": "https://localhost:8080/"
        },
        "id": "7-dqRsyl4Dfl",
        "outputId": "82794b69-ea49-4a98-8712-bbe078a39ee0"
      },
      "source": [
        "!python val.py --weights \"/content/drive/MyDrive/hack_final/dataset_hack/best(1).pt\" --data /content/drive/MyDrive/hack_final/dataset_hack/train.yaml --img 640 --iou 0.65 --half"
      ],
      "execution_count": null,
      "outputs": [
        {
          "output_type": "stream",
          "name": "stdout",
          "text": [
            "\u001b[34m\u001b[1mval: \u001b[0mdata=/content/drive/MyDrive/hack_final/dataset_hack/train.yaml, weights=['/content/drive/MyDrive/hack_final/dataset_hack/best(1).pt'], batch_size=32, imgsz=640, conf_thres=0.001, iou_thres=0.65, task=val, device=, workers=8, single_cls=False, augment=False, verbose=False, save_txt=False, save_hybrid=False, save_conf=False, save_json=False, project=runs/val, name=exp, exist_ok=False, half=True, dnn=False\n",
            "YOLOv5 🚀 v6.0-120-g92a7391 torch 1.10.0+cu111 CUDA:0 (Tesla K80, 11441MiB)\n",
            "\n",
            "Fusing layers... \n",
            "Model Summary: 213 layers, 7012822 parameters, 0 gradients, 15.8 GFLOPs\n",
            "\u001b[34m\u001b[1mval: \u001b[0mScanning '/content/drive/MyDrive/hack_final/dataset_hack/val/labels.cache' images and labels... 21 found, 0 missing, 0 empty, 0 corrupted: 100% 21/21 [00:00<?, ?it/s]\n",
            "               Class     Images     Labels          P          R     mAP@.5 mAP@.5:.95: 100% 1/1 [00:04<00:00,  4.62s/it]\n",
            "                 all         21         79      0.974      0.962       0.98      0.685\n",
            "Speed: 0.4ms pre-process, 28.6ms inference, 3.2ms NMS per image at shape (32, 3, 640, 640)\n",
            "Results saved to \u001b[1mruns/val/exp2\u001b[0m\n"
          ]
        }
      ]
    },
    {
      "cell_type": "markdown",
      "metadata": {
        "id": "lfz1f58cTInt"
      },
      "source": [
        "Результат на последней эпохе"
      ]
    },
    {
      "cell_type": "code",
      "metadata": {
        "id": "yuOakJ-cS5NF"
      },
      "source": [
        "Validating runs/train/exp2/weights/best.pt...\n",
        "Fusing layers... \n",
        "Model Summary: 213 layers, 7012822 parameters, 0 gradients, 15.8 GFLOPs\n",
        "               Class     Images     Labels          P          R     mAP@.5 mAP@.5:.95: 100% 1/1 [00:00<00:00,  1.42it/s]\n",
        "                 all         21         79      0.987      0.949      0.973      0.683"
      ],
      "execution_count": null,
      "outputs": []
    },
    {
      "cell_type": "code",
      "metadata": {
        "id": "dAyX2RqPQkgx"
      },
      "source": [
        "--weights yolov5s.pt --cache"
      ],
      "execution_count": null,
      "outputs": []
    },
    {
      "cell_type": "code",
      "metadata": {
        "colab": {
          "base_uri": "https://localhost:8080/"
        },
        "id": "1NcFxRcFdJ_O",
        "outputId": "fe0264ed-72fb-4870-e51f-d87071fd8e21"
      },
      "source": [
        "# Train YOLOv5s on COCO128 for 3 epochs\n",
        "!python train.py --img 640 --batch 16 --epochs 50 --data /content/drive/MyDrive/hack_final/yolo_dataset/train.yaml --weights \"/content/drive/MyDrive/hack_final/yolo_dataset/train/dtp_yolo_2.pt\""
      ],
      "execution_count": 3,
      "outputs": [
        {
          "output_type": "stream",
          "name": "stdout",
          "text": [
            "Downloading https://ultralytics.com/assets/Arial.ttf to /root/.config/Ultralytics/Arial.ttf...\n",
            "\u001b[34m\u001b[1mtrain: \u001b[0mweights=/content/drive/MyDrive/hack_final/yolo_dataset/train/dtp_yolo_2.pt, cfg=, data=/content/drive/MyDrive/hack_final/yolo_dataset/train.yaml, hyp=data/hyps/hyp.scratch.yaml, epochs=50, batch_size=16, imgsz=640, rect=False, resume=False, nosave=False, noval=False, noautoanchor=False, evolve=None, bucket=, cache=None, image_weights=False, device=, multi_scale=False, single_cls=False, optimizer=SGD, sync_bn=False, workers=8, project=runs/train, name=exp, exist_ok=False, quad=False, linear_lr=False, label_smoothing=0.0, patience=100, freeze=[0], save_period=-1, local_rank=-1, entity=None, upload_dataset=False, bbox_interval=-1, artifact_alias=latest\n",
            "\u001b[34m\u001b[1mgithub: \u001b[0mup to date with https://github.com/ultralytics/yolov5 ✅\n",
            "YOLOv5 🚀 v6.0-218-g7539cd7 torch 1.10.0+cu111 CUDA:0 (Tesla K80, 11441MiB)\n",
            "\n",
            "\u001b[34m\u001b[1mhyperparameters: \u001b[0mlr0=0.01, lrf=0.1, momentum=0.937, weight_decay=0.0005, warmup_epochs=3.0, warmup_momentum=0.8, warmup_bias_lr=0.1, box=0.05, cls=0.5, cls_pw=1.0, obj=1.0, obj_pw=1.0, iou_t=0.2, anchor_t=4.0, fl_gamma=0.0, hsv_h=0.015, hsv_s=0.7, hsv_v=0.4, degrees=0.0, translate=0.1, scale=0.5, shear=0.0, perspective=0.0, flipud=0.0, fliplr=0.5, mosaic=1.0, mixup=0.0, copy_paste=0.0\n",
            "\u001b[34m\u001b[1mWeights & Biases: \u001b[0mrun 'pip install wandb' to automatically track and visualize YOLOv5 🚀 runs (RECOMMENDED)\n",
            "\u001b[34m\u001b[1mTensorBoard: \u001b[0mStart with 'tensorboard --logdir runs/train', view at http://localhost:6006/\n",
            "\n",
            "                 from  n    params  module                                  arguments                     \n",
            "  0                -1  1      3520  models.common.Conv                      [3, 32, 6, 2, 2]              \n",
            "  1                -1  1     18560  models.common.Conv                      [32, 64, 3, 2]                \n",
            "  2                -1  1     18816  models.common.C3                        [64, 64, 1]                   \n",
            "  3                -1  1     73984  models.common.Conv                      [64, 128, 3, 2]               \n",
            "  4                -1  2    115712  models.common.C3                        [128, 128, 2]                 \n",
            "  5                -1  1    295424  models.common.Conv                      [128, 256, 3, 2]              \n",
            "  6                -1  3    625152  models.common.C3                        [256, 256, 3]                 \n",
            "  7                -1  1   1180672  models.common.Conv                      [256, 512, 3, 2]              \n",
            "  8                -1  1   1182720  models.common.C3                        [512, 512, 1]                 \n",
            "  9                -1  1    656896  models.common.SPPF                      [512, 512, 5]                 \n",
            " 10                -1  1    131584  models.common.Conv                      [512, 256, 1, 1]              \n",
            " 11                -1  1         0  torch.nn.modules.upsampling.Upsample    [None, 2, 'nearest']          \n",
            " 12           [-1, 6]  1         0  models.common.Concat                    [1]                           \n",
            " 13                -1  1    361984  models.common.C3                        [512, 256, 1, False]          \n",
            " 14                -1  1     33024  models.common.Conv                      [256, 128, 1, 1]              \n",
            " 15                -1  1         0  torch.nn.modules.upsampling.Upsample    [None, 2, 'nearest']          \n",
            " 16           [-1, 4]  1         0  models.common.Concat                    [1]                           \n",
            " 17                -1  1     90880  models.common.C3                        [256, 128, 1, False]          \n",
            " 18                -1  1    147712  models.common.Conv                      [128, 128, 3, 2]              \n",
            " 19          [-1, 14]  1         0  models.common.Concat                    [1]                           \n",
            " 20                -1  1    296448  models.common.C3                        [256, 256, 1, False]          \n",
            " 21                -1  1    590336  models.common.Conv                      [256, 256, 3, 2]              \n",
            " 22          [-1, 10]  1         0  models.common.Concat                    [1]                           \n",
            " 23                -1  1   1182720  models.common.C3                        [512, 512, 1, False]          \n",
            " 24      [17, 20, 23]  1     24273  models.yolo.Detect                      [4, [[10, 13, 16, 30, 33, 23], [30, 61, 62, 45, 59, 119], [116, 90, 156, 198, 373, 326]], [128, 256, 512]]\n",
            "Model Summary: 270 layers, 7030417 parameters, 7030417 gradients, 15.9 GFLOPs\n",
            "\n",
            "Transferred 349/349 items from /content/drive/MyDrive/hack_final/yolo_dataset/train/dtp_yolo_2.pt\n",
            "Scaled weight_decay = 0.0005\n",
            "\u001b[34m\u001b[1moptimizer:\u001b[0m SGD with parameter groups 57 weight (no decay), 60 weight, 60 bias\n",
            "\u001b[34m\u001b[1malbumentations: \u001b[0mversion 1.0.3 required by YOLOv5, but version 0.1.12 is currently installed\n",
            "\u001b[34m\u001b[1mtrain: \u001b[0mScanning '/content/drive/MyDrive/hack_final/yolo_dataset/train/labels' images and labels...557 found, 0 missing, 77 empty, 0 corrupt: 100% 557/557 [02:28<00:00,  3.75it/s]\n",
            "\u001b[34m\u001b[1mtrain: \u001b[0mNew cache created: /content/drive/MyDrive/hack_final/yolo_dataset/train/labels.cache\n",
            "\u001b[34m\u001b[1mval: \u001b[0mScanning '/content/drive/MyDrive/hack_final/yolo_dataset/val/labels.cache' images and labels... 49 found, 0 missing, 11 empty, 0 corrupt: 100% 49/49 [00:00<?, ?it/s]\n",
            "Plotting labels to runs/train/exp/labels.jpg... \n",
            "\n",
            "\u001b[34m\u001b[1mAutoAnchor: \u001b[0m5.27 anchors/target, 1.000 Best Possible Recall (BPR). Current anchors are a good fit to dataset ✅\n",
            "Image sizes 640 train, 640 val\n",
            "Using 2 dataloader workers\n",
            "Logging results to \u001b[1mruns/train/exp\u001b[0m\n",
            "Starting training for 50 epochs...\n",
            "\n",
            "     Epoch   gpu_mem       box       obj       cls    labels  img_size\n",
            "      0/49     3.23G   0.03335   0.02197   0.01116        48       640: 100% 35/35 [00:50<00:00,  1.45s/it]\n",
            "               Class     Images     Labels          P          R     mAP@.5 mAP@.5:.95: 100% 2/2 [00:01<00:00,  1.31it/s]\n",
            "                 all         49         64      0.524       0.76      0.587      0.306\n",
            "\n",
            "     Epoch   gpu_mem       box       obj       cls    labels  img_size\n",
            "      1/49     3.54G   0.03262   0.02172  0.009659        39       640: 100% 35/35 [00:46<00:00,  1.34s/it]\n",
            "               Class     Images     Labels          P          R     mAP@.5 mAP@.5:.95: 100% 2/2 [00:01<00:00,  1.32it/s]\n",
            "                 all         49         64      0.589      0.671      0.645      0.343\n",
            "\n",
            "     Epoch   gpu_mem       box       obj       cls    labels  img_size\n",
            "      2/49     3.54G   0.03333   0.02021   0.01032        28       640: 100% 35/35 [00:46<00:00,  1.34s/it]\n",
            "               Class     Images     Labels          P          R     mAP@.5 mAP@.5:.95: 100% 2/2 [00:01<00:00,  1.40it/s]\n",
            "                 all         49         64      0.518      0.719      0.635      0.347\n",
            "\n",
            "     Epoch   gpu_mem       box       obj       cls    labels  img_size\n",
            "      3/49     3.54G   0.03332   0.02115  0.009437        45       640: 100% 35/35 [00:46<00:00,  1.33s/it]\n",
            "               Class     Images     Labels          P          R     mAP@.5 mAP@.5:.95: 100% 2/2 [00:01<00:00,  1.37it/s]\n",
            "                 all         49         64      0.801      0.438      0.597      0.316\n",
            "\n",
            "     Epoch   gpu_mem       box       obj       cls    labels  img_size\n",
            "      4/49     3.54G   0.03526   0.02069  0.008851        54       640: 100% 35/35 [00:46<00:00,  1.32s/it]\n",
            "               Class     Images     Labels          P          R     mAP@.5 mAP@.5:.95: 100% 2/2 [00:01<00:00,  1.31it/s]\n",
            "                 all         49         64       0.57      0.668      0.584      0.265\n",
            "\n",
            "     Epoch   gpu_mem       box       obj       cls    labels  img_size\n",
            "      5/49     3.54G   0.03931   0.01891  0.008065        44       640: 100% 35/35 [00:45<00:00,  1.29s/it]\n",
            "               Class     Images     Labels          P          R     mAP@.5 mAP@.5:.95: 100% 2/2 [00:01<00:00,  1.54it/s]\n",
            "                 all         49         64      0.588      0.653      0.701      0.319\n",
            "\n",
            "     Epoch   gpu_mem       box       obj       cls    labels  img_size\n",
            "      6/49     3.54G   0.04048     0.019  0.008527        22       640: 100% 35/35 [00:44<00:00,  1.28s/it]\n",
            "               Class     Images     Labels          P          R     mAP@.5 mAP@.5:.95: 100% 2/2 [00:01<00:00,  1.35it/s]\n",
            "                 all         49         64      0.592      0.535      0.516       0.27\n",
            "\n",
            "     Epoch   gpu_mem       box       obj       cls    labels  img_size\n",
            "      7/49     3.54G   0.04069    0.0202  0.008855        49       640: 100% 35/35 [00:44<00:00,  1.28s/it]\n",
            "               Class     Images     Labels          P          R     mAP@.5 mAP@.5:.95: 100% 2/2 [00:01<00:00,  1.28it/s]\n",
            "                 all         49         64      0.555      0.659      0.631       0.27\n",
            "\n",
            "     Epoch   gpu_mem       box       obj       cls    labels  img_size\n",
            "      8/49     3.54G   0.04188   0.01994     0.008        30       640: 100% 35/35 [00:45<00:00,  1.29s/it]\n",
            "               Class     Images     Labels          P          R     mAP@.5 mAP@.5:.95: 100% 2/2 [00:01<00:00,  1.33it/s]\n",
            "                 all         49         64      0.405       0.76      0.611       0.31\n",
            "\n",
            "     Epoch   gpu_mem       box       obj       cls    labels  img_size\n",
            "      9/49     3.54G   0.03946   0.02002  0.008816        30       640: 100% 35/35 [00:45<00:00,  1.30s/it]\n",
            "               Class     Images     Labels          P          R     mAP@.5 mAP@.5:.95: 100% 2/2 [00:01<00:00,  1.36it/s]\n",
            "                 all         49         64      0.594      0.587       0.53      0.268\n",
            "\n",
            "     Epoch   gpu_mem       box       obj       cls    labels  img_size\n",
            "     10/49     3.54G   0.04186   0.01902  0.008717        27       640: 100% 35/35 [00:45<00:00,  1.30s/it]\n",
            "               Class     Images     Labels          P          R     mAP@.5 mAP@.5:.95: 100% 2/2 [00:01<00:00,  1.52it/s]\n",
            "                 all         49         64      0.593      0.607       0.56      0.294\n",
            "\n",
            "     Epoch   gpu_mem       box       obj       cls    labels  img_size\n",
            "     11/49     3.54G   0.04169    0.0194  0.009319        32       640: 100% 35/35 [00:45<00:00,  1.30s/it]\n",
            "               Class     Images     Labels          P          R     mAP@.5 mAP@.5:.95: 100% 2/2 [00:01<00:00,  1.30it/s]\n",
            "                 all         49         64      0.474      0.748       0.58      0.298\n",
            "\n",
            "     Epoch   gpu_mem       box       obj       cls    labels  img_size\n",
            "     12/49     3.54G   0.03995   0.02014  0.008427        61       640: 100% 35/35 [00:45<00:00,  1.30s/it]\n",
            "               Class     Images     Labels          P          R     mAP@.5 mAP@.5:.95: 100% 2/2 [00:01<00:00,  1.38it/s]\n",
            "                 all         49         64      0.681      0.581       0.68      0.266\n",
            "\n",
            "     Epoch   gpu_mem       box       obj       cls    labels  img_size\n",
            "     13/49     3.54G   0.04035   0.01857  0.007542        46       640: 100% 35/35 [00:45<00:00,  1.29s/it]\n",
            "               Class     Images     Labels          P          R     mAP@.5 mAP@.5:.95: 100% 2/2 [00:01<00:00,  1.43it/s]\n",
            "                 all         49         64      0.587      0.748       0.69      0.329\n",
            "\n",
            "     Epoch   gpu_mem       box       obj       cls    labels  img_size\n",
            "     14/49     3.54G   0.04426   0.01941  0.008627        29       640: 100% 35/35 [00:45<00:00,  1.29s/it]\n",
            "               Class     Images     Labels          P          R     mAP@.5 mAP@.5:.95: 100% 2/2 [00:01<00:00,  1.43it/s]\n",
            "                 all         49         64       0.39      0.778      0.537      0.294\n",
            "\n",
            "     Epoch   gpu_mem       box       obj       cls    labels  img_size\n",
            "     15/49     3.54G   0.04435   0.01955  0.008497        36       640: 100% 35/35 [00:44<00:00,  1.28s/it]\n",
            "               Class     Images     Labels          P          R     mAP@.5 mAP@.5:.95: 100% 2/2 [00:01<00:00,  1.56it/s]\n",
            "                 all         49         64      0.646      0.585      0.553      0.276\n",
            "\n",
            "     Epoch   gpu_mem       box       obj       cls    labels  img_size\n",
            "     16/49     3.54G   0.04437   0.01927  0.008098        46       640: 100% 35/35 [00:44<00:00,  1.26s/it]\n",
            "               Class     Images     Labels          P          R     mAP@.5 mAP@.5:.95: 100% 2/2 [00:01<00:00,  1.40it/s]\n",
            "                 all         49         64      0.594      0.541      0.567      0.288\n",
            "\n",
            "     Epoch   gpu_mem       box       obj       cls    labels  img_size\n",
            "     17/49     3.54G   0.04213   0.01905  0.007424        38       640: 100% 35/35 [00:44<00:00,  1.28s/it]\n",
            "               Class     Images     Labels          P          R     mAP@.5 mAP@.5:.95: 100% 2/2 [00:01<00:00,  1.33it/s]\n",
            "                 all         49         64      0.513      0.606      0.507      0.215\n",
            "\n",
            "     Epoch   gpu_mem       box       obj       cls    labels  img_size\n",
            "     18/49     3.54G   0.04062   0.01842  0.007114        22       640: 100% 35/35 [00:44<00:00,  1.28s/it]\n",
            "               Class     Images     Labels          P          R     mAP@.5 mAP@.5:.95: 100% 2/2 [00:01<00:00,  1.44it/s]\n",
            "                 all         49         64      0.593       0.56      0.525      0.283\n",
            "\n",
            "     Epoch   gpu_mem       box       obj       cls    labels  img_size\n",
            "     19/49     3.54G   0.04044   0.01814  0.007618        26       640: 100% 35/35 [00:44<00:00,  1.28s/it]\n",
            "               Class     Images     Labels          P          R     mAP@.5 mAP@.5:.95: 100% 2/2 [00:01<00:00,  1.42it/s]\n",
            "                 all         49         64      0.668      0.631      0.614      0.273\n",
            "\n",
            "     Epoch   gpu_mem       box       obj       cls    labels  img_size\n",
            "     20/49     3.54G   0.03948   0.01805  0.007243        30       640: 100% 35/35 [00:44<00:00,  1.28s/it]\n",
            "               Class     Images     Labels          P          R     mAP@.5 mAP@.5:.95: 100% 2/2 [00:01<00:00,  1.37it/s]\n",
            "                 all         49         64      0.606      0.696      0.633      0.325\n",
            "\n",
            "     Epoch   gpu_mem       box       obj       cls    labels  img_size\n",
            "     21/49     3.54G   0.03985   0.01946  0.006813        45       640: 100% 35/35 [00:44<00:00,  1.28s/it]\n",
            "               Class     Images     Labels          P          R     mAP@.5 mAP@.5:.95: 100% 2/2 [00:01<00:00,  1.40it/s]\n",
            "                 all         49         64      0.569      0.578      0.461      0.203\n",
            "\n",
            "     Epoch   gpu_mem       box       obj       cls    labels  img_size\n",
            "     22/49     3.54G   0.03966   0.01833  0.007314        35       640: 100% 35/35 [00:44<00:00,  1.28s/it]\n",
            "               Class     Images     Labels          P          R     mAP@.5 mAP@.5:.95: 100% 2/2 [00:01<00:00,  1.34it/s]\n",
            "                 all         49         64      0.639      0.598      0.625      0.326\n",
            "\n",
            "     Epoch   gpu_mem       box       obj       cls    labels  img_size\n",
            "     23/49     3.54G   0.03717   0.01846  0.007018        32       640: 100% 35/35 [00:44<00:00,  1.27s/it]\n",
            "               Class     Images     Labels          P          R     mAP@.5 mAP@.5:.95: 100% 2/2 [00:01<00:00,  1.40it/s]\n",
            "                 all         49         64      0.455      0.542      0.491      0.207\n",
            "\n",
            "     Epoch   gpu_mem       box       obj       cls    labels  img_size\n",
            "     24/49     3.54G   0.03929   0.01827  0.008054        40       640: 100% 35/35 [00:44<00:00,  1.27s/it]\n",
            "               Class     Images     Labels          P          R     mAP@.5 mAP@.5:.95: 100% 2/2 [00:01<00:00,  1.42it/s]\n",
            "                 all         49         64       0.64      0.638      0.672      0.334\n",
            "\n",
            "     Epoch   gpu_mem       box       obj       cls    labels  img_size\n",
            "     25/49     3.54G   0.03982   0.01856  0.006559        30       640: 100% 35/35 [00:44<00:00,  1.27s/it]\n",
            "               Class     Images     Labels          P          R     mAP@.5 mAP@.5:.95: 100% 2/2 [00:01<00:00,  1.39it/s]\n",
            "                 all         49         64      0.572      0.673      0.627      0.337\n",
            "\n",
            "     Epoch   gpu_mem       box       obj       cls    labels  img_size\n",
            "     26/49     3.54G   0.03982   0.01938  0.006999        28       640: 100% 35/35 [00:44<00:00,  1.28s/it]\n",
            "               Class     Images     Labels          P          R     mAP@.5 mAP@.5:.95: 100% 2/2 [00:01<00:00,  1.35it/s]\n",
            "                 all         49         64      0.627        0.6      0.613      0.354\n",
            "\n",
            "     Epoch   gpu_mem       box       obj       cls    labels  img_size\n",
            "     27/49     3.54G   0.03686   0.01821   0.00756        32       640: 100% 35/35 [00:44<00:00,  1.27s/it]\n",
            "               Class     Images     Labels          P          R     mAP@.5 mAP@.5:.95: 100% 2/2 [00:01<00:00,  1.54it/s]\n",
            "                 all         49         64      0.736       0.65      0.642      0.346\n",
            "\n",
            "     Epoch   gpu_mem       box       obj       cls    labels  img_size\n",
            "     28/49     3.54G    0.0359   0.01768  0.005812        25       640: 100% 35/35 [00:44<00:00,  1.27s/it]\n",
            "               Class     Images     Labels          P          R     mAP@.5 mAP@.5:.95: 100% 2/2 [00:01<00:00,  1.38it/s]\n",
            "                 all         49         64      0.556      0.724      0.617      0.295\n",
            "\n",
            "     Epoch   gpu_mem       box       obj       cls    labels  img_size\n",
            "     29/49     3.54G   0.03665   0.01875  0.007887        27       640: 100% 35/35 [00:44<00:00,  1.27s/it]\n",
            "               Class     Images     Labels          P          R     mAP@.5 mAP@.5:.95: 100% 2/2 [00:01<00:00,  1.37it/s]\n",
            "                 all         49         64      0.568      0.718      0.645      0.352\n",
            "\n",
            "     Epoch   gpu_mem       box       obj       cls    labels  img_size\n",
            "     30/49     3.54G   0.03328   0.01863  0.006039        30       640: 100% 35/35 [00:44<00:00,  1.27s/it]\n",
            "               Class     Images     Labels          P          R     mAP@.5 mAP@.5:.95: 100% 2/2 [00:01<00:00,  1.38it/s]\n",
            "                 all         49         64      0.648      0.666      0.651       0.33\n",
            "\n",
            "     Epoch   gpu_mem       box       obj       cls    labels  img_size\n",
            "     31/49     3.54G   0.03391   0.01849  0.005778        53       640: 100% 35/35 [00:45<00:00,  1.29s/it]\n",
            "               Class     Images     Labels          P          R     mAP@.5 mAP@.5:.95: 100% 2/2 [00:01<00:00,  1.38it/s]\n",
            "                 all         49         64      0.734      0.609      0.661      0.369\n",
            "\n",
            "     Epoch   gpu_mem       box       obj       cls    labels  img_size\n",
            "     32/49     3.54G   0.03222   0.01749  0.005859        35       640: 100% 35/35 [00:44<00:00,  1.28s/it]\n",
            "               Class     Images     Labels          P          R     mAP@.5 mAP@.5:.95: 100% 2/2 [00:01<00:00,  1.43it/s]\n",
            "                 all         49         64      0.648      0.691       0.68      0.377\n",
            "\n",
            "     Epoch   gpu_mem       box       obj       cls    labels  img_size\n",
            "     33/49     3.54G   0.03131   0.01676  0.004797        46       640: 100% 35/35 [00:44<00:00,  1.27s/it]\n",
            "               Class     Images     Labels          P          R     mAP@.5 mAP@.5:.95: 100% 2/2 [00:01<00:00,  1.20it/s]\n",
            "                 all         49         64      0.722      0.667      0.703      0.399\n",
            "\n",
            "     Epoch   gpu_mem       box       obj       cls    labels  img_size\n",
            "     34/49     3.54G   0.03048    0.0167   0.00522        38       640: 100% 35/35 [00:45<00:00,  1.30s/it]\n",
            "               Class     Images     Labels          P          R     mAP@.5 mAP@.5:.95: 100% 2/2 [00:01<00:00,  1.24it/s]\n",
            "                 all         49         64      0.687      0.716      0.667      0.365\n",
            "\n",
            "     Epoch   gpu_mem       box       obj       cls    labels  img_size\n",
            "     35/49     3.54G   0.02925   0.01754  0.005363        39       640: 100% 35/35 [00:44<00:00,  1.28s/it]\n",
            "               Class     Images     Labels          P          R     mAP@.5 mAP@.5:.95: 100% 2/2 [00:01<00:00,  1.15it/s]\n",
            "                 all         49         64      0.834      0.591      0.659      0.394\n",
            "\n",
            "     Epoch   gpu_mem       box       obj       cls    labels  img_size\n",
            "     36/49     3.54G   0.02812   0.01568  0.004898        28       640: 100% 35/35 [00:45<00:00,  1.29s/it]\n",
            "               Class     Images     Labels          P          R     mAP@.5 mAP@.5:.95: 100% 2/2 [00:01<00:00,  1.43it/s]\n",
            "                 all         49         64      0.739      0.712      0.739      0.429\n",
            "\n",
            "     Epoch   gpu_mem       box       obj       cls    labels  img_size\n",
            "     37/49     3.54G   0.02817   0.01562  0.003937        41       640: 100% 35/35 [00:44<00:00,  1.28s/it]\n",
            "               Class     Images     Labels          P          R     mAP@.5 mAP@.5:.95: 100% 2/2 [00:01<00:00,  1.38it/s]\n",
            "                 all         49         64      0.768      0.694       0.75      0.444\n",
            "\n",
            "     Epoch   gpu_mem       box       obj       cls    labels  img_size\n",
            "     38/49     3.54G   0.02735   0.01534  0.003626        37       640: 100% 35/35 [00:44<00:00,  1.27s/it]\n",
            "               Class     Images     Labels          P          R     mAP@.5 mAP@.5:.95: 100% 2/2 [00:01<00:00,  1.46it/s]\n",
            "                 all         49         64      0.686      0.761      0.745      0.441\n",
            "\n",
            "     Epoch   gpu_mem       box       obj       cls    labels  img_size\n",
            "     39/49     3.54G   0.02647   0.01562  0.004338        43       640: 100% 35/35 [00:44<00:00,  1.27s/it]\n",
            "               Class     Images     Labels          P          R     mAP@.5 mAP@.5:.95: 100% 2/2 [00:01<00:00,  1.42it/s]\n",
            "                 all         49         64      0.752      0.667      0.685      0.456\n",
            "\n",
            "     Epoch   gpu_mem       box       obj       cls    labels  img_size\n",
            "     40/49     3.54G   0.02558    0.0153  0.004534        40       640: 100% 35/35 [00:44<00:00,  1.27s/it]\n",
            "               Class     Images     Labels          P          R     mAP@.5 mAP@.5:.95: 100% 2/2 [00:01<00:00,  1.51it/s]\n",
            "                 all         49         64      0.777      0.589      0.649      0.413\n",
            "\n",
            "     Epoch   gpu_mem       box       obj       cls    labels  img_size\n",
            "     41/49     3.54G   0.02613   0.01482  0.003664        45       640: 100% 35/35 [00:43<00:00,  1.24s/it]\n",
            "               Class     Images     Labels          P          R     mAP@.5 mAP@.5:.95: 100% 2/2 [00:01<00:00,  1.70it/s]\n",
            "                 all         49         64      0.538      0.796      0.686      0.435\n",
            "\n",
            "     Epoch   gpu_mem       box       obj       cls    labels  img_size\n",
            "     42/49     3.54G   0.02446   0.01517  0.003553        32       640: 100% 35/35 [00:42<00:00,  1.22s/it]\n",
            "               Class     Images     Labels          P          R     mAP@.5 mAP@.5:.95: 100% 2/2 [00:01<00:00,  1.79it/s]\n",
            "                 all         49         64      0.574      0.802      0.719      0.451\n",
            "\n",
            "     Epoch   gpu_mem       box       obj       cls    labels  img_size\n",
            "     43/49     3.54G   0.02441   0.01431  0.003658        45       640: 100% 35/35 [00:43<00:00,  1.25s/it]\n",
            "               Class     Images     Labels          P          R     mAP@.5 mAP@.5:.95: 100% 2/2 [00:01<00:00,  1.41it/s]\n",
            "                 all         49         64      0.657      0.709      0.703      0.413\n",
            "\n",
            "     Epoch   gpu_mem       box       obj       cls    labels  img_size\n",
            "     44/49     3.54G   0.02362   0.01395  0.003175        37       640: 100% 35/35 [00:44<00:00,  1.28s/it]\n",
            "               Class     Images     Labels          P          R     mAP@.5 mAP@.5:.95: 100% 2/2 [00:01<00:00,  1.35it/s]\n",
            "                 all         49         64      0.635      0.728        0.7      0.411\n",
            "\n",
            "     Epoch   gpu_mem       box       obj       cls    labels  img_size\n",
            "     45/49     3.54G    0.0237   0.01461  0.002878        49       640: 100% 35/35 [00:44<00:00,  1.27s/it]\n",
            "               Class     Images     Labels          P          R     mAP@.5 mAP@.5:.95: 100% 2/2 [00:01<00:00,  1.56it/s]\n",
            "                 all         49         64      0.749      0.706      0.759      0.457\n",
            "\n",
            "     Epoch   gpu_mem       box       obj       cls    labels  img_size\n",
            "     46/49     3.54G   0.02344   0.01431  0.003134        51       640: 100% 35/35 [00:44<00:00,  1.26s/it]\n",
            "               Class     Images     Labels          P          R     mAP@.5 mAP@.5:.95: 100% 2/2 [00:01<00:00,  1.61it/s]\n",
            "                 all         49         64      0.685      0.678      0.741      0.399\n",
            "\n",
            "     Epoch   gpu_mem       box       obj       cls    labels  img_size\n",
            "     47/49     3.54G   0.02269   0.01288  0.002529        53       640: 100% 35/35 [00:44<00:00,  1.26s/it]\n",
            "               Class     Images     Labels          P          R     mAP@.5 mAP@.5:.95: 100% 2/2 [00:01<00:00,  1.77it/s]\n",
            "                 all         49         64      0.631      0.676      0.715      0.417\n",
            "\n",
            "     Epoch   gpu_mem       box       obj       cls    labels  img_size\n",
            "     48/49     3.54G   0.02313   0.01321  0.003312        43       640: 100% 35/35 [00:44<00:00,  1.26s/it]\n",
            "               Class     Images     Labels          P          R     mAP@.5 mAP@.5:.95: 100% 2/2 [00:01<00:00,  1.62it/s]\n",
            "                 all         49         64      0.667      0.734      0.751      0.465\n",
            "\n",
            "     Epoch   gpu_mem       box       obj       cls    labels  img_size\n",
            "     49/49     3.54G    0.0227   0.01309  0.002976        38       640: 100% 35/35 [00:43<00:00,  1.25s/it]\n",
            "               Class     Images     Labels          P          R     mAP@.5 mAP@.5:.95: 100% 2/2 [00:01<00:00,  1.46it/s]\n",
            "                 all         49         64      0.729      0.678      0.752      0.439\n",
            "\n",
            "50 epochs completed in 0.655 hours.\n",
            "Optimizer stripped from runs/train/exp/weights/last.pt, 14.5MB\n",
            "Optimizer stripped from runs/train/exp/weights/best.pt, 14.5MB\n",
            "\n",
            "Validating runs/train/exp/weights/best.pt...\n",
            "Fusing layers... \n",
            "Model Summary: 213 layers, 7020913 parameters, 0 gradients, 15.8 GFLOPs\n",
            "               Class     Images     Labels          P          R     mAP@.5 mAP@.5:.95: 100% 2/2 [00:01<00:00,  1.16it/s]\n",
            "                 all         49         64       0.67      0.734       0.75      0.464\n",
            "                 dtp         49         34        0.5      0.353      0.432      0.247\n",
            "              police         49         10      0.634        0.7      0.732      0.415\n",
            "           embulance         49         17      0.818      0.882      0.926      0.536\n",
            "                fire         49          3      0.726          1      0.913      0.658\n",
            "Results saved to \u001b[1mruns/train/exp\u001b[0m\n"
          ]
        }
      ]
    }
  ]
}