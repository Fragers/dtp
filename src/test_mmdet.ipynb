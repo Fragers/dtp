{
 "cells": [
  {
   "cell_type": "code",
   "execution_count": 3,
   "metadata": {
    "collapsed": true
   },
   "outputs": [
    {
     "name": "stdout",
     "output_type": "stream",
     "text": [
      "load checkpoint from local path: ../weights/retinanet_r50_fpn_1x_det_bdd100k.pth\n"
     ]
    }
   ],
   "source": [
    "from mmdet.apis import init_detector, inference_detector, show_result_pyplot\n",
    "import mmcv\n",
    "import cv2\n",
    "# Specify the path to model config and checkpoint file\n",
    "config_file = '../weights/retina_config.py'\n",
    "checkpoint_file = '../weights/retinanet_r50_fpn_1x_det_bdd100k.pth'\n",
    "\n",
    "# build the model from a config file and a checkpoint file\n",
    "model = init_detector(config_file, checkpoint_file, device='cuda:0')\n",
    "\n",
    "# test a single image and show the results\n",
    "# img = 'test.jpg'  # or img = mmcv.imread(img), which will only load it once\n",
    "# result = inference_detector(model, img)\n",
    "# # visualize the results in a new window\n",
    "# model.show_result(img, result)\n",
    "# # or save the visualization results to image files\n",
    "# model.show_result(img, result, out_file='result.jpg')\n",
    "\n",
    "# test a video and show the results"
   ]
  },
  {
   "cell_type": "code",
   "execution_count": null,
   "outputs": [
    {
     "name": "stderr",
     "output_type": "stream",
     "text": [
      "C:\\Users\\igors\\anaconda3\\envs\\dtp_hack\\lib\\site-packages\\mmdet\\datasets\\utils.py:65: UserWarning: \"ImageToTensor\" pipeline is replaced by \"DefaultFormatBundle\" for batch inference. It is recommended to manually replace it in the test data pipeline in your config file.\n",
      "  warnings.warn(\n"
     ]
    }
   ],
   "source": [
    "img = mmcv.imread('../data/cam_cars/maxresdefault (3).jpg')\n",
    "result = inference_detector(model, img)\n",
    "show_result_pyplot(model, img, result)"
   ],
   "metadata": {
    "collapsed": false,
    "pycharm": {
     "name": "#%%\n",
     "is_executing": true
    }
   }
  }
 ],
 "metadata": {
  "kernelspec": {
   "display_name": "Python 3",
   "language": "python",
   "name": "python3"
  },
  "language_info": {
   "codemirror_mode": {
    "name": "ipython",
    "version": 2
   },
   "file_extension": ".py",
   "mimetype": "text/x-python",
   "name": "python",
   "nbconvert_exporter": "python",
   "pygments_lexer": "ipython2",
   "version": "2.7.6"
  }
 },
 "nbformat": 4,
 "nbformat_minor": 0
}